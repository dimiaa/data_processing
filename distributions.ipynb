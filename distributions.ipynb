{
 "cells": [
  {
   "cell_type": "markdown",
   "metadata": {},
   "source": [
    "На сегодня (16 число)\n",
    "Функция генерации определенного количества СВ (для каждого закона)\n",
    "3 выборки: \n",
    "до 10\n",
    "до 20\n",
    "до 40\n",
    "до 100\n",
    "и больше 100 на свой выбор\n",
    "\n",
    "для выборок посчитать оценки\n",
    "мат ожиадание\n",
    "ско в двух видах (смещенная и несмещенная)\n",
    "медиана\n",
    "\n",
    "Вторая часть (на следующую пару)\n",
    "добавить шум (по этому же закону и по другому)\n",
    "посчитать корреляцию и ковариацию для исходного и зашумленного ряда\n"
   ]
  },
  {
   "cell_type": "code",
   "execution_count": 3,
   "metadata": {},
   "outputs": [],
   "source": [
    "import scipy.stats as sps\n",
    "import scipy.ndimage as snd\n",
    "import matplotlib.pyplot as plt\n",
    "import numpy as np"
   ]
  },
  {
   "cell_type": "code",
   "execution_count": 28,
   "metadata": {},
   "outputs": [],
   "source": [
    "# n - количество испытаний\n",
    "# p - вероятность успеха в испытании\n",
    "# s - количество генерируемых СВ (размер выборки)\n",
    "def generateBinomRandomVariables(n, p, s):\n",
    "    binom_rvs = sps.binom.rvs(n, p, size=s)\n",
    "    # oned_rvs = np.array(binom_rvs.)\n",
    "    print('M(X) = ', binom_rvs.mean())\n",
    "    print('sigma(X)', binom_rvs.std())\n",
    "    print('Median = ', snd.median(binom_rvs))\n",
    "    fig, ax = plt.subplots(1, 1)\n",
    "    ax.plot(binom_rvs)\n",
    "    # return binom_rvs"
   ]
  },
  {
   "cell_type": "code",
   "execution_count": 29,
   "metadata": {},
   "outputs": [
    {
     "name": "stdout",
     "output_type": "stream",
     "text": [
      "M(X) =  8.0\n",
      "sigma(X) 1.2657013865837392\n",
      "Median =  8.0\n"
     ]
    },
    {
     "data": {
      "image/png": "[encoded data removed]",
      "text/plain": [
       "<Figure size 432x288 with 1 Axes>"
      ]
     },
     "metadata": {
      "needs_background": "light"
     },
     "output_type": "display_data"
    }
   ],
   "source": [
    "generateBinomRandomVariables(10, 0.8, 1000)"
   ]
  },
  {
   "cell_type": "code",
   "execution_count": 17,
   "metadata": {},
   "outputs": [],
   "source": [
    "# p - вероятность успеха в испытании\n",
    "# size - количество генерируемых СВ (размер выборки)\n",
    "def generateBernulliRandomVariables(p, s):\n",
    "    bernoulli_rvs = sps.bernoulli.rvs(p, size=s)\n",
    "    print('M(X) = %.5f' % bernoulli_rvs.mean())\n",
    "    print('sigma(X) %.5f' % bernoulli_rvs.std())\n",
    "    print('Median = ', snd.median(bernoulli_rvs))\n",
    "    fig, ax = plt.subplots(1, 1)\n",
    "    ax.plot(bernoulli_rvs)\n",
    "    # return bernoulli_rvs"
   ]
  },
  {
   "cell_type": "code",
   "execution_count": 18,
   "metadata": {},
   "outputs": [
    {
     "name": "stdout",
     "output_type": "stream",
     "text": [
      "M(X) = 0.60000\n",
      "sigma(X) 0.48990\n",
      "Median =  1.0\n"
     ]
    }
   ],
   "source": [
    "generateBernulliRandomVariables(0.5, 10)"
   ]
  },
  {
   "cell_type": "code",
   "execution_count": 21,
   "metadata": {},
   "outputs": [],
   "source": [
    "# p - вероятность успеха в испытании\n",
    "# size - количество генерируемых СВ (размер выборки)\n",
    "def generateGeomRandomVariables(p, s):\n",
    "    geom_rvs = sps.geom.rvs(p, size=s)\n",
    "    print('M(X) = ', geom_rvs.mean())\n",
    "    print('sigma(X) = ',  geom_rvs.std())\n",
    "    print('Median = ', snd.median(geom_rvs))\n",
    "    fig, ax = plt.subplots(1, 1)\n",
    "    ax.plot(geom_rvs)\n",
    "    return geom_rvs"
   ]
  },
  {
   "cell_type": "code",
   "execution_count": 22,
   "metadata": {},
   "outputs": [
    {
     "name": "stdout",
     "output_type": "stream",
     "text": [
      "M(X) =  2.2\n",
      "sigma(X) =  1.1661903789690602\n",
      "Median =  2.0\n"
     ]
    },
    {
     "data": {
      "text/plain": [
       "array([2, 2, 1, 5, 3, 3, 1, 1, 2, 2])"
      ]
     },
     "execution_count": 22,
     "metadata": {},
     "output_type": "execute_result"
    }
   ],
   "source": [
    "generateGeomRandomVariables(0.5, 10)"
   ]
  },
  {
   "cell_type": "code",
   "execution_count": 46,
   "metadata": {},
   "outputs": [],
   "source": [
    "# M(X) = mu, D(X) = mu \n",
    "# size - количество генерируемых СВ (размер выборки)\n",
    "def generatePoissonRandomVariables(mu, s):\n",
    "    poisson_rvs = sps.poisson.rvs(mu, size=s)\n",
    "    print('M(X) = ', poisson_rvs.mean())\n",
    "    print('sigma(X) =', poisson_rvs.std())\n",
    "    print('Median = ', snd.median(poisson_rvs))\n",
    "    fig, ax = plt.subplots(1, 1)\n",
    "    ax.plot(poisson_rvs)\n",
    "    # return poisson_rvs"
   ]
  },
  {
   "cell_type": "code",
   "execution_count": 48,
   "metadata": {},
   "outputs": [
    {
     "name": "stdout",
     "output_type": "stream",
     "text": [
      "M(X) =  0.39735\n",
      "sigma(X) = 0.6295736473995716\n",
      "Median =  0.0\n"
     ]
    }
   ],
   "source": [
    "generatePoissonRandomVariables(0.4, 1000)"
   ]
  },
  {
   "cell_type": "code",
   "execution_count": 74,
   "metadata": {},
   "outputs": [],
   "source": [
    "def generateExponentialRandomVariables(s):\n",
    "    expon_rvs = sps.expon.rvs(size=s)\n",
    "    print('M(X) = ', expon_rvs.mean())\n",
    "    print('sigma(X) =', expon_rvs.std())\n",
    "    print('Median = ', snd.median(expon_rvs))\n",
    "    fig, ax = plt.subplots(1, 1)\n",
    "    #ppf - percent point function \n",
    "    x = np.linspace(sps.expon.ppf(0.01),\n",
    "                sps.expon.ppf(0.99), s)\n",
    "    ax.plot(x, sps.expon.pdf(x),\n",
    "       'r-', lw=5, label='expon pdf')\n",
    "    # ax.plot(expon_rvs)\n",
    "    ax.hist(expon_rvs, density=True, label='hist')\n",
    "    ax.legend()\n",
    "    plt.show()\n",
    "    # return expon_rvs"
   ]
  },
  {
   "cell_type": "code",
   "execution_count": 75,
   "metadata": {},
   "outputs": [
    {
     "name": "stdout",
     "output_type": "stream",
     "text": [
      "M(X) =  1.0303131273392152\n",
      "sigma(X) = 0.9912850134989426\n",
      "Median =  0.726939767520162\n"
     ]
    },
    {
     "data": {
      "image/png": "[encoded data removed]",
      "text/plain": [
       "<Figure size 432x288 with 1 Axes>"
      ]
     },
     "metadata": {
      "needs_background": "light"
     },
     "output_type": "display_data"
    }
   ],
   "source": [
    "generateExponentialRandomVariables(1000)"
   ]
  }
 ],
 "metadata": {
  "interpreter": {
   "hash": "518c3ac2d4faafa1f3afb1d3f9bc34be8bd7e77ddf1335cab5a4ca20d0465f6b"
  },
  "kernelspec": {
   "display_name": "Python 3.10.2 64-bit",
   "language": "python",
   "name": "python3"
  },
  "language_info": {
   "codemirror_mode": {
    "name": "ipython",
    "version": 3
   },
   "file_extension": ".py",
   "mimetype": "text/x-python",
   "name": "python",
   "nbconvert_exporter": "python",
   "pygments_lexer": "ipython3",
   "version": "3.10.2"
  },
  "orig_nbformat": 4
 },
 "nbformat": 4,
 "nbformat_minor": 2
}
